{
 "cells": [
  {
   "cell_type": "markdown",
   "id": "c66cd151-1164-4edd-921e-3d324c50a0ed",
   "metadata": {},
   "source": [
    "# Data Science Tools & Ecosystem"
   ]
  },
  {
   "cell_type": "markdown",
   "id": "dd5597e8-7029-4e02-a90d-1df586f29da5",
   "metadata": {},
   "source": [
    "### This notebook summarizes the ecosystem and tools used within the field of Data Science."
   ]
  },
  {
   "cell_type": "markdown",
   "id": "195747c9-49ee-445c-84f9-19c804dfe0a4",
   "metadata": {},
   "source": [
    "### **Objectives**\n",
    "\n",
    "* List some of the popular languages used by data scientists.\n",
    "* List some commonly used libraries by data scientists.\n",
    "* Display the common development environments used by data scientists.\n",
    "* Showcase some examples of arithmetic expressions."
   ]
  },
  {
   "cell_type": "markdown",
   "id": "ef2623f6-32ff-46de-81bb-0657c0a516e8",
   "metadata": {},
   "source": [
    "#### Here is a short list of some popular languages used by data scientists:\n",
    "\n",
    "1. Python\n",
    "2. R\n",
    "3. SQL\n",
    "4. Java\n",
    "5. Julia\n",
    "6. Scala"
   ]
  },
  {
   "cell_type": "markdown",
   "id": "af48821a-385c-4d8b-a416-6f889286a4f4",
   "metadata": {},
   "source": [
    "#### Additionally, some common libraries used by data scientists include:\n",
    "\n",
    "1. NumPy (Scientific Computing)\n",
    "2. Pandas (Scientific Computing)\n",
    "3. Matplotlib (Visualization)\n",
    "4. Seaborn (Visualization)\n",
    "5. Scikit (ML & Deep Learning)\n",
    "6. Keras (ML & Deep Learning)\n",
    "7. Tensorflow (Deep Learning)\n",
    "8. Pytorch (Deep Learning)\n",
    "9. Ggplot2 (R langauage)\n",
    "10. Vegas (Scala Language)"
   ]
  },
  {
   "cell_type": "markdown",
   "id": "6c33a06a-aca7-4736-9476-8fcfa2b4b50d",
   "metadata": {},
   "source": [
    "#### Here is a table listing some commonly used development environments by data scientists:\n",
    "\n",
    "| Data Science Tools |\n",
    "| ------------------ |\n",
    "| JupyterLab |\n",
    "| RStudio|\n",
    "| Visual Studio Code |"
   ]
  },
  {
   "cell_type": "markdown",
   "id": "eab464c1-50a4-4f19-9a04-77690e3e5d3c",
   "metadata": {},
   "source": [
    "### Below are a few examples of evaluating arithmetic expressions in Python"
   ]
  },
  {
   "cell_type": "code",
   "execution_count": 26,
   "id": "fef57ee9-2f58-49f0-bf90-f2e81c4f22c9",
   "metadata": {},
   "outputs": [
    {
     "data": {
      "text/plain": [
       "17"
      ]
     },
     "execution_count": 26,
     "metadata": {},
     "output_type": "execute_result"
    }
   ],
   "source": [
    "# Here is a simple arithmetic expression to multiply and add integers\n",
    "\n",
    "(3*4)+5"
   ]
  },
  {
   "cell_type": "code",
   "execution_count": 28,
   "id": "e53d4f84-f341-4818-ab79-72e845f11c26",
   "metadata": {},
   "outputs": [
    {
     "name": "stdout",
     "output_type": "stream",
     "text": [
      "3.3333333333333335 hours\n"
     ]
    }
   ],
   "source": [
    "# Here is a way to convert time values from minutes to hours\n",
    "\n",
    "min = 200\n",
    "hr = min/60\n",
    "print(hr, \"hours\")"
   ]
  },
  {
   "cell_type": "markdown",
   "id": "9bf343fc-80f7-4921-9bc2-480a292b760c",
   "metadata": {},
   "source": [
    "## Author Name\n",
    "Shahbaz Tariq"
   ]
  }
 ],
 "metadata": {
  "kernelspec": {
   "display_name": "Python 3 (ipykernel)",
   "language": "python",
   "name": "python3"
  },
  "language_info": {
   "codemirror_mode": {
    "name": "ipython",
    "version": 3
   },
   "file_extension": ".py",
   "mimetype": "text/x-python",
   "name": "python",
   "nbconvert_exporter": "python",
   "pygments_lexer": "ipython3",
   "version": "3.11.7"
  }
 },
 "nbformat": 4,
 "nbformat_minor": 5
}
